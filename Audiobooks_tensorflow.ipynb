{
  "nbformat": 4,
  "nbformat_minor": 0,
  "metadata": {
    "colab": {
      "name": "Audiobooks_tensorflow.ipynb",
      "provenance": []
    },
    "kernelspec": {
      "name": "python3",
      "display_name": "Python 3"
    },
    "language_info": {
      "name": "python"
    }
  },
  "cells": [
    {
      "cell_type": "markdown",
      "source": [
        "# Practical Example . Audiobooks"
      ],
      "metadata": {
        "id": "er65JOgdQOsj"
      }
    },
    {
      "cell_type": "markdown",
      "source": [
        "## Import the libraries"
      ],
      "metadata": {
        "id": "t2M-Wd2AQU8w"
      }
    },
    {
      "cell_type": "code",
      "source": [
        "import numpy as np\n",
        "import tensorflow as tf\n",
        "from sklearn import preprocessing"
      ],
      "metadata": {
        "id": "xfN9V_hYQa-_"
      },
      "execution_count": 1,
      "outputs": []
    },
    {
      "cell_type": "markdown",
      "source": [
        "## Extract data from csv"
      ],
      "metadata": {
        "id": "zdSYxzDuQYHg"
      }
    },
    {
      "cell_type": "code",
      "source": [
        "raw_csv_data = np.loadtxt('/content/Audiobooks_data.csv' , delimiter=',')\n",
        "\n",
        "unscaled_inputs_all = raw_csv_data[: , 1:-1]\n",
        "targets_all = raw_csv_data[: , -1]"
      ],
      "metadata": {
        "id": "bc8HfIgCQX6Q"
      },
      "execution_count": 5,
      "outputs": []
    },
    {
      "cell_type": "markdown",
      "source": [
        "#Data Preprocessing"
      ],
      "metadata": {
        "id": "km_9aX-MRmPM"
      }
    }
  ]
}