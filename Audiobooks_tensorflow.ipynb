{
  "nbformat": 4,
  "nbformat_minor": 0,
  "metadata": {
    "colab": {
      "name": "Audiobooks_tensorflow.ipynb",
      "provenance": [],
      "authorship_tag": "ABX9TyOGhf0lomCV4u4osuhiohYJ",
      "include_colab_link": true
    },
    "kernelspec": {
      "name": "python3",
      "display_name": "Python 3"
    },
    "language_info": {
      "name": "python"
    }
  },
  "cells": [
    {
      "cell_type": "markdown",
      "metadata": {
        "id": "view-in-github",
        "colab_type": "text"
      },
      "source": [
        "<a href=\"https://colab.research.google.com/github/hemanjalireddy/model_to_determine_return_of_customers/blob/main/Audiobooks_tensorflow.ipynb\" target=\"_parent\"><img src=\"https://colab.research.google.com/assets/colab-badge.svg\" alt=\"Open In Colab\"/></a>"
      ]
    },
    {
      "cell_type": "markdown",
      "source": [
        "# Practical Example . Audiobooks"
      ],
      "metadata": {
        "id": "er65JOgdQOsj"
      }
    },
    {
      "cell_type": "markdown",
      "source": [
        "## Import the libraries"
      ],
      "metadata": {
        "id": "t2M-Wd2AQU8w"
      }
    },
    {
      "cell_type": "code",
      "source": [
        "import numpy as np\n",
        "import tensorflow as tf\n",
        "from sklearn import preprocessing"
      ],
      "metadata": {
        "id": "xfN9V_hYQa-_"
      },
      "execution_count": 1,
      "outputs": []
    },
    {
      "cell_type": "markdown",
      "source": [
        "## Extract data from csv"
      ],
      "metadata": {
        "id": "zdSYxzDuQYHg"
      }
    },
    {
      "cell_type": "code",
      "source": [
        "raw_csv_data = np.loadtxt('/content/Audiobooks_data.csv' , delimiter=',')\n",
        "\n",
        "unscaled_inputs_all = raw_csv_data[: , 1:-1]\n",
        "targets_all = raw_csv_data[: , -1]"
      ],
      "metadata": {
        "id": "bc8HfIgCQX6Q"
      },
      "execution_count": 5,
      "outputs": []
    },
    {
      "cell_type": "markdown",
      "source": [
        "#Data Preprocessing"
      ],
      "metadata": {
        "id": "km_9aX-MRmPM"
      }
    },
    {
      "cell_type": "markdown",
      "source": [
        "## Balance the dataset"
      ],
      "metadata": {
        "id": "YfgtaXTPSINe"
      }
    },
    {
      "cell_type": "code",
      "source": [
        "num_one_targets = int(np.sum(targets_all))\n",
        "zero_targets_counter = 0\n",
        "indices_to_remove = []\n",
        "\n",
        "for i in range(targets_all.shape[0]):\n",
        "  if targets_all[i]==0:\n",
        "    zero_targets_counter += 1\n",
        "    if zero_targets_counter > num_one_targets :\n",
        "      indices_to_remove.append(i)\n",
        "\n",
        "unscaled_inputs_equal_priors = np.delete(unscaled_inputs_all, indices_to_remove , axis=0)\n",
        "targets_equal_prior = np.delete(targets_all , indices_to_remove , axis=0)"
      ],
      "metadata": {
        "id": "Zw5CJwG2SJ3b"
      },
      "execution_count": 9,
      "outputs": []
    },
    {
      "cell_type": "markdown",
      "source": [
        "## Standardize the inputs"
      ],
      "metadata": {
        "id": "XWNWrzv0TtNg"
      }
    },
    {
      "cell_type": "code",
      "source": [
        "scaled_inputs = preprocessing.scale(unscaled_inputs_equal_priors)\n",
        "scaled_inputs"
      ],
      "metadata": {
        "colab": {
          "base_uri": "https://localhost:8080/"
        },
        "id": "XzdlXBP2TvQL",
        "outputId": "d5a523f9-62e4-4ebc-ef03-95280b08ecde"
      },
      "execution_count": 11,
      "outputs": [
        {
          "output_type": "execute_result",
          "data": {
            "text/plain": [
              "array([[ 0.21053387, -0.18888517,  1.97823887, ...,  4.80955413,\n",
              "        11.83828419,  0.09415043],\n",
              "       [ 1.27894497,  0.41646744, -0.39082475, ..., -0.41569922,\n",
              "        -0.20183481, -0.80255852],\n",
              "       [ 1.27894497,  0.41646744, -0.39082475, ..., -0.41569922,\n",
              "        -0.20183481,  2.979214  ],\n",
              "       ...,\n",
              "       [ 1.27894497,  0.41646744, -0.39082475, ..., -0.41569922,\n",
              "        -0.20183481, -0.7440775 ],\n",
              "       [ 0.31737498,  1.7482432 ,  0.04679395, ..., -0.41569922,\n",
              "        -0.20183481, -0.80255852],\n",
              "       [ 0.31737498,  1.7482432 , -0.39082475, ..., -0.41569922,\n",
              "        -0.20183481, -0.80255852]])"
            ]
          },
          "metadata": {},
          "execution_count": 11
        }
      ]
    },
    {
      "cell_type": "markdown",
      "source": [
        "## Shuffle the data"
      ],
      "metadata": {
        "id": "09h14cj6UEgm"
      }
    },
    {
      "cell_type": "code",
      "source": [
        "shuffled_indices = np.arange(scaled_inputs.shape[0])\n",
        "np.random.shuffle(shuffled_indices)\n",
        "\n",
        "shuffled_inputs = scaled_inputs[shuffled_indices]\n",
        "shuffled_targets = targets_equal_prior[shuffled_indices]"
      ],
      "metadata": {
        "id": "nhOvoTeaUGr6"
      },
      "execution_count": 12,
      "outputs": []
    }
  ]
}