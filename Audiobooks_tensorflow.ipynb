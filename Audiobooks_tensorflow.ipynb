{
  "nbformat": 4,
  "nbformat_minor": 0,
  "metadata": {
    "colab": {
      "name": "Audiobooks_tensorflow.ipynb",
      "provenance": [],
      "authorship_tag": "ABX9TyMZ8Dlrkiz//OiD0Gj9nEYE"
    },
    "kernelspec": {
      "name": "python3",
      "display_name": "Python 3"
    },
    "language_info": {
      "name": "python"
    }
  },
  "cells": [
    {
      "cell_type": "markdown",
      "source": [
        "# Practical Example . Audiobooks"
      ],
      "metadata": {
        "id": "er65JOgdQOsj"
      }
    },
    {
      "cell_type": "markdown",
      "source": [
        "## Import the libraries"
      ],
      "metadata": {
        "id": "t2M-Wd2AQU8w"
      }
    },
    {
      "cell_type": "code",
      "source": [
        "import numpy as np\n",
        "import tensorflow as tf\n",
        "from sklearn import preprocessing"
      ],
      "metadata": {
        "id": "xfN9V_hYQa-_"
      },
      "execution_count": 1,
      "outputs": []
    },
    {
      "cell_type": "markdown",
      "source": [
        "## Extract data from csv"
      ],
      "metadata": {
        "id": "zdSYxzDuQYHg"
      }
    },
    {
      "cell_type": "code",
      "source": [
        "raw_csv_data = np.loadtxt('/content/Audiobooks_data.csv' , delimiter=',')\n",
        "\n",
        "unscaled_inputs_all = raw_csv_data[: , 1:-1]\n",
        "targets_all = raw_csv_data[: , -1]"
      ],
      "metadata": {
        "id": "bc8HfIgCQX6Q"
      },
      "execution_count": 5,
      "outputs": []
    },
    {
      "cell_type": "markdown",
      "source": [
        "#Data Preprocessing"
      ],
      "metadata": {
        "id": "km_9aX-MRmPM"
      }
    },
    {
      "cell_type": "markdown",
      "source": [
        "## Balance the dataset"
      ],
      "metadata": {
        "id": "YfgtaXTPSINe"
      }
    },
    {
      "cell_type": "code",
      "source": [
        "num_one_targets = int(np.sum(targets_all))\n",
        "zero_targets_counter = 0\n",
        "indices_to_remove = []\n",
        "\n",
        "for i in range(targets_all.shape[0]):\n",
        "  if targets_all[i]==0:\n",
        "    zero_targets_counter += 1\n",
        "    if zero_targets_counter > num_one_targets :\n",
        "      indices_to_remove.append(i)\n",
        "\n",
        "unscaled_inputs_equal_priors = np.delete(unscaled_inputs_all, indices_to_remove , axis=0)\n",
        "targets_equal_prior = np.delete(targets_all , indices_to_remove , axis=0)"
      ],
      "metadata": {
        "id": "Zw5CJwG2SJ3b"
      },
      "execution_count": 9,
      "outputs": []
    }
  ]
}