{
  "nbformat": 4,
  "nbformat_minor": 0,
  "metadata": {
    "colab": {
      "name": "AudioBook_ML_model.ipynb",
      "provenance": [],
      "collapsed_sections": [],
      "authorship_tag": "ABX9TyMVeXC7auMpKdsN2N/pJu3C"
    },
    "kernelspec": {
      "name": "python3",
      "display_name": "Python 3"
    },
    "language_info": {
      "name": "python"
    }
  },
  "cells": [
    {
      "cell_type": "markdown",
      "source": [
        "#Machine Learning Algorithm"
      ],
      "metadata": {
        "id": "1h0H9Nhhaa0i"
      }
    },
    {
      "cell_type": "markdown",
      "source": [
        "## Import the relevant libraries"
      ],
      "metadata": {
        "id": "KzzQCZUhaeYN"
      }
    },
    {
      "cell_type": "code",
      "execution_count": null,
      "metadata": {
        "id": "Ra-j6oaCaV8w"
      },
      "outputs": [],
      "source": [
        "import numpy as np\n",
        "import tensorflow as tf\n"
      ]
    },
    {
      "cell_type": "markdown",
      "source": [
        "## Load the data"
      ],
      "metadata": {
        "id": "QV3M0X8VbAjO"
      }
    },
    {
      "cell_type": "code",
      "source": [
        "npz_train = np.load('/content/Audiobooks_data_train.npz')\n",
        "\n",
        "train_inputs = npz_train['inputs'].astype(np.float64) #inputs are expected to be float type\n",
        "train_targets = npz_train['targets'].astype(np.int64)\n",
        "\n",
        "npz_validation = np.load('/content/Audiobooks_data_validation.npz')\n",
        "validation_inputs = npz_validation['inputs'].astype(np.float64) \n",
        "validation_targets = npz_validation['targets'].astype(np.int64)\n",
        "\n",
        "npz_test = np.load('/content/Audiobooks_data_test.npz')\n",
        "test_inputs = npz_test['inputs'].astype(np.float64) \n",
        "test_targets = npz_test['targets'].astype(np.int64)"
      ],
      "metadata": {
        "id": "tcCbPkY7bBoA"
      },
      "execution_count": null,
      "outputs": []
    },
    {
      "cell_type": "markdown",
      "source": [
        "## MODEL\n",
        "\n",
        "Outline , optimizer ,loss function , early stopping and training"
      ],
      "metadata": {
        "id": "wPVJ4lK_c651"
      }
    },
    {
      "cell_type": "code",
      "source": [
        "input_size = 10\n",
        "output_size = 2\n",
        "hidden_layer_size = 50 #arbitrary\n",
        "\n",
        "\n",
        "model = tf.keras.Sequential([                                                                           #stacks layers\n",
        "                            tf.keras.layers.Dense(hidden_layer_size , activation='relu') , \n",
        "                            tf.keras.layers.Dense(hidden_layer_size , activation='relu') , \n",
        "                            tf.keras.layers.Dense(output_size , activation = 'softmax')\n",
        "\n",
        "])  "
      ],
      "metadata": {
        "id": "3c0J2I-Kc7uZ"
      },
      "execution_count": 8,
      "outputs": []
    },
    {
      "cell_type": "markdown",
      "source": [
        "###Optimizer and loss function"
      ],
      "metadata": {
        "id": "XzPy0jC0dmgg"
      }
    },
    {
      "cell_type": "code",
      "source": [
        "model.compile(optimizer = 'adam' , loss = 'sparse_categorical_crossentropy' , metrics =['accuracy'])  "
      ],
      "metadata": {
        "id": "XKfwxoU2dpVa"
      },
      "execution_count": 9,
      "outputs": []
    },
    {
      "cell_type": "markdown",
      "source": [
        "## Fit the model\n"
      ],
      "metadata": {
        "id": "cZG77XPSd-iU"
      }
    },
    {
      "cell_type": "code",
      "source": [
        "batch_size = 100\n",
        "max_epochs = 100\n",
        "\n",
        "model.fit(train_inputs , \n",
        "          train_targets , \n",
        "          batch_size = batch_size ,   #automatic batching\n",
        "          epochs = max_epochs , \n",
        "          validation_data = (validation_inputs , validation_targets) , \n",
        "          verbose=2)"
      ],
      "metadata": {
        "colab": {
          "base_uri": "https://localhost:8080/"
        },
        "id": "COJBJqzEeBDW",
        "outputId": "262ab118-1bae-4ba7-80f8-29d90565729b"
      },
      "execution_count": 10,
      "outputs": [
        {
          "output_type": "stream",
          "name": "stdout",
          "text": [
            "Epoch 1/100\n",
            "36/36 - 1s - loss: 0.6769 - accuracy: 0.5641 - val_loss: 0.5805 - val_accuracy: 0.7025 - 889ms/epoch - 25ms/step\n",
            "Epoch 2/100\n",
            "36/36 - 0s - loss: 0.5148 - accuracy: 0.7441 - val_loss: 0.4790 - val_accuracy: 0.7427 - 88ms/epoch - 2ms/step\n",
            "Epoch 3/100\n",
            "36/36 - 0s - loss: 0.4384 - accuracy: 0.7821 - val_loss: 0.4329 - val_accuracy: 0.7763 - 84ms/epoch - 2ms/step\n",
            "Epoch 4/100\n",
            "36/36 - 0s - loss: 0.4006 - accuracy: 0.7935 - val_loss: 0.4124 - val_accuracy: 0.7785 - 80ms/epoch - 2ms/step\n",
            "Epoch 5/100\n",
            "36/36 - 0s - loss: 0.3815 - accuracy: 0.8066 - val_loss: 0.3882 - val_accuracy: 0.7987 - 79ms/epoch - 2ms/step\n",
            "Epoch 6/100\n",
            "36/36 - 0s - loss: 0.3690 - accuracy: 0.8050 - val_loss: 0.3743 - val_accuracy: 0.7987 - 85ms/epoch - 2ms/step\n",
            "Epoch 7/100\n",
            "36/36 - 0s - loss: 0.3618 - accuracy: 0.8075 - val_loss: 0.3658 - val_accuracy: 0.7919 - 98ms/epoch - 3ms/step\n",
            "Epoch 8/100\n",
            "36/36 - 0s - loss: 0.3556 - accuracy: 0.8103 - val_loss: 0.3600 - val_accuracy: 0.8031 - 98ms/epoch - 3ms/step\n",
            "Epoch 9/100\n",
            "36/36 - 0s - loss: 0.3481 - accuracy: 0.8167 - val_loss: 0.3562 - val_accuracy: 0.7919 - 83ms/epoch - 2ms/step\n",
            "Epoch 10/100\n",
            "36/36 - 0s - loss: 0.3470 - accuracy: 0.8167 - val_loss: 0.3578 - val_accuracy: 0.7897 - 99ms/epoch - 3ms/step\n",
            "Epoch 11/100\n",
            "36/36 - 0s - loss: 0.3430 - accuracy: 0.8209 - val_loss: 0.3534 - val_accuracy: 0.7942 - 92ms/epoch - 3ms/step\n",
            "Epoch 12/100\n",
            "36/36 - 0s - loss: 0.3396 - accuracy: 0.8209 - val_loss: 0.3513 - val_accuracy: 0.8076 - 93ms/epoch - 3ms/step\n",
            "Epoch 13/100\n",
            "36/36 - 0s - loss: 0.3338 - accuracy: 0.8254 - val_loss: 0.3430 - val_accuracy: 0.8210 - 90ms/epoch - 3ms/step\n",
            "Epoch 14/100\n",
            "36/36 - 0s - loss: 0.3322 - accuracy: 0.8262 - val_loss: 0.3471 - val_accuracy: 0.8031 - 78ms/epoch - 2ms/step\n",
            "Epoch 15/100\n",
            "36/36 - 0s - loss: 0.3292 - accuracy: 0.8220 - val_loss: 0.3437 - val_accuracy: 0.8009 - 83ms/epoch - 2ms/step\n",
            "Epoch 16/100\n",
            "36/36 - 0s - loss: 0.3282 - accuracy: 0.8259 - val_loss: 0.3401 - val_accuracy: 0.8121 - 97ms/epoch - 3ms/step\n",
            "Epoch 17/100\n",
            "36/36 - 0s - loss: 0.3269 - accuracy: 0.8290 - val_loss: 0.3396 - val_accuracy: 0.8188 - 80ms/epoch - 2ms/step\n",
            "Epoch 18/100\n",
            "36/36 - 0s - loss: 0.3260 - accuracy: 0.8293 - val_loss: 0.3591 - val_accuracy: 0.8076 - 80ms/epoch - 2ms/step\n",
            "Epoch 19/100\n",
            "36/36 - 0s - loss: 0.3243 - accuracy: 0.8304 - val_loss: 0.3362 - val_accuracy: 0.8098 - 95ms/epoch - 3ms/step\n",
            "Epoch 20/100\n",
            "36/36 - 0s - loss: 0.3235 - accuracy: 0.8282 - val_loss: 0.3434 - val_accuracy: 0.8166 - 87ms/epoch - 2ms/step\n",
            "Epoch 21/100\n",
            "36/36 - 0s - loss: 0.3237 - accuracy: 0.8198 - val_loss: 0.3361 - val_accuracy: 0.8255 - 81ms/epoch - 2ms/step\n",
            "Epoch 22/100\n",
            "36/36 - 0s - loss: 0.3189 - accuracy: 0.8276 - val_loss: 0.3420 - val_accuracy: 0.7987 - 79ms/epoch - 2ms/step\n",
            "Epoch 23/100\n",
            "36/36 - 0s - loss: 0.3200 - accuracy: 0.8262 - val_loss: 0.3415 - val_accuracy: 0.7987 - 92ms/epoch - 3ms/step\n",
            "Epoch 24/100\n",
            "36/36 - 0s - loss: 0.3165 - accuracy: 0.8256 - val_loss: 0.3442 - val_accuracy: 0.8121 - 79ms/epoch - 2ms/step\n",
            "Epoch 25/100\n",
            "36/36 - 0s - loss: 0.3210 - accuracy: 0.8293 - val_loss: 0.3372 - val_accuracy: 0.8098 - 85ms/epoch - 2ms/step\n",
            "Epoch 26/100\n",
            "36/36 - 0s - loss: 0.3178 - accuracy: 0.8265 - val_loss: 0.3388 - val_accuracy: 0.8076 - 98ms/epoch - 3ms/step\n",
            "Epoch 27/100\n",
            "36/36 - 0s - loss: 0.3202 - accuracy: 0.8282 - val_loss: 0.3315 - val_accuracy: 0.8143 - 99ms/epoch - 3ms/step\n",
            "Epoch 28/100\n",
            "36/36 - 0s - loss: 0.3147 - accuracy: 0.8307 - val_loss: 0.3330 - val_accuracy: 0.8210 - 91ms/epoch - 3ms/step\n",
            "Epoch 29/100\n",
            "36/36 - 0s - loss: 0.3165 - accuracy: 0.8307 - val_loss: 0.3359 - val_accuracy: 0.8233 - 84ms/epoch - 2ms/step\n",
            "Epoch 30/100\n",
            "36/36 - 0s - loss: 0.3177 - accuracy: 0.8290 - val_loss: 0.3434 - val_accuracy: 0.8054 - 98ms/epoch - 3ms/step\n",
            "Epoch 31/100\n",
            "36/36 - 0s - loss: 0.3164 - accuracy: 0.8298 - val_loss: 0.3403 - val_accuracy: 0.8076 - 93ms/epoch - 3ms/step\n",
            "Epoch 32/100\n",
            "36/36 - 0s - loss: 0.3162 - accuracy: 0.8290 - val_loss: 0.3360 - val_accuracy: 0.8143 - 82ms/epoch - 2ms/step\n",
            "Epoch 33/100\n",
            "36/36 - 0s - loss: 0.3149 - accuracy: 0.8296 - val_loss: 0.3337 - val_accuracy: 0.8009 - 95ms/epoch - 3ms/step\n",
            "Epoch 34/100\n",
            "36/36 - 0s - loss: 0.3161 - accuracy: 0.8215 - val_loss: 0.3641 - val_accuracy: 0.7830 - 77ms/epoch - 2ms/step\n",
            "Epoch 35/100\n",
            "36/36 - 0s - loss: 0.3145 - accuracy: 0.8329 - val_loss: 0.3367 - val_accuracy: 0.8076 - 87ms/epoch - 2ms/step\n",
            "Epoch 36/100\n",
            "36/36 - 0s - loss: 0.3115 - accuracy: 0.8357 - val_loss: 0.3353 - val_accuracy: 0.8031 - 97ms/epoch - 3ms/step\n",
            "Epoch 37/100\n",
            "36/36 - 0s - loss: 0.3108 - accuracy: 0.8296 - val_loss: 0.3344 - val_accuracy: 0.8031 - 79ms/epoch - 2ms/step\n",
            "Epoch 38/100\n",
            "36/36 - 0s - loss: 0.3098 - accuracy: 0.8324 - val_loss: 0.3385 - val_accuracy: 0.8076 - 94ms/epoch - 3ms/step\n",
            "Epoch 39/100\n",
            "36/36 - 0s - loss: 0.3092 - accuracy: 0.8312 - val_loss: 0.3284 - val_accuracy: 0.8166 - 77ms/epoch - 2ms/step\n",
            "Epoch 40/100\n",
            "36/36 - 0s - loss: 0.3088 - accuracy: 0.8340 - val_loss: 0.3292 - val_accuracy: 0.8121 - 75ms/epoch - 2ms/step\n",
            "Epoch 41/100\n",
            "36/36 - 0s - loss: 0.3066 - accuracy: 0.8360 - val_loss: 0.3405 - val_accuracy: 0.8233 - 86ms/epoch - 2ms/step\n",
            "Epoch 42/100\n",
            "36/36 - 0s - loss: 0.3082 - accuracy: 0.8351 - val_loss: 0.3431 - val_accuracy: 0.8210 - 78ms/epoch - 2ms/step\n",
            "Epoch 43/100\n",
            "36/36 - 0s - loss: 0.3113 - accuracy: 0.8346 - val_loss: 0.3398 - val_accuracy: 0.7919 - 76ms/epoch - 2ms/step\n",
            "Epoch 44/100\n",
            "36/36 - 0s - loss: 0.3093 - accuracy: 0.8312 - val_loss: 0.3283 - val_accuracy: 0.8210 - 96ms/epoch - 3ms/step\n",
            "Epoch 45/100\n",
            "36/36 - 0s - loss: 0.3083 - accuracy: 0.8349 - val_loss: 0.3341 - val_accuracy: 0.8121 - 76ms/epoch - 2ms/step\n",
            "Epoch 46/100\n",
            "36/36 - 0s - loss: 0.3098 - accuracy: 0.8301 - val_loss: 0.3309 - val_accuracy: 0.8009 - 85ms/epoch - 2ms/step\n",
            "Epoch 47/100\n",
            "36/36 - 0s - loss: 0.3092 - accuracy: 0.8296 - val_loss: 0.3398 - val_accuracy: 0.8233 - 82ms/epoch - 2ms/step\n",
            "Epoch 48/100\n",
            "36/36 - 0s - loss: 0.3150 - accuracy: 0.8240 - val_loss: 0.3329 - val_accuracy: 0.7942 - 77ms/epoch - 2ms/step\n",
            "Epoch 49/100\n",
            "36/36 - 0s - loss: 0.3068 - accuracy: 0.8379 - val_loss: 0.3324 - val_accuracy: 0.8121 - 91ms/epoch - 3ms/step\n",
            "Epoch 50/100\n",
            "36/36 - 0s - loss: 0.3076 - accuracy: 0.8321 - val_loss: 0.3280 - val_accuracy: 0.8009 - 95ms/epoch - 3ms/step\n",
            "Epoch 51/100\n",
            "36/36 - 0s - loss: 0.3073 - accuracy: 0.8326 - val_loss: 0.3287 - val_accuracy: 0.8188 - 84ms/epoch - 2ms/step\n",
            "Epoch 52/100\n",
            "36/36 - 0s - loss: 0.3055 - accuracy: 0.8338 - val_loss: 0.3368 - val_accuracy: 0.8076 - 95ms/epoch - 3ms/step\n",
            "Epoch 53/100\n",
            "36/36 - 0s - loss: 0.3056 - accuracy: 0.8312 - val_loss: 0.3378 - val_accuracy: 0.8076 - 80ms/epoch - 2ms/step\n",
            "Epoch 54/100\n",
            "36/36 - 0s - loss: 0.3098 - accuracy: 0.8349 - val_loss: 0.3336 - val_accuracy: 0.8031 - 82ms/epoch - 2ms/step\n",
            "Epoch 55/100\n",
            "36/36 - 0s - loss: 0.3108 - accuracy: 0.8298 - val_loss: 0.3382 - val_accuracy: 0.8166 - 85ms/epoch - 2ms/step\n",
            "Epoch 56/100\n",
            "36/36 - 0s - loss: 0.3077 - accuracy: 0.8335 - val_loss: 0.3256 - val_accuracy: 0.8143 - 79ms/epoch - 2ms/step\n",
            "Epoch 57/100\n",
            "36/36 - 0s - loss: 0.3076 - accuracy: 0.8301 - val_loss: 0.3308 - val_accuracy: 0.7919 - 78ms/epoch - 2ms/step\n",
            "Epoch 58/100\n",
            "36/36 - 0s - loss: 0.3068 - accuracy: 0.8360 - val_loss: 0.3344 - val_accuracy: 0.8166 - 77ms/epoch - 2ms/step\n",
            "Epoch 59/100\n",
            "36/36 - 0s - loss: 0.3050 - accuracy: 0.8329 - val_loss: 0.3316 - val_accuracy: 0.8098 - 78ms/epoch - 2ms/step\n",
            "Epoch 60/100\n",
            "36/36 - 0s - loss: 0.3065 - accuracy: 0.8374 - val_loss: 0.3338 - val_accuracy: 0.8188 - 80ms/epoch - 2ms/step\n",
            "Epoch 61/100\n",
            "36/36 - 0s - loss: 0.3050 - accuracy: 0.8351 - val_loss: 0.3307 - val_accuracy: 0.8076 - 82ms/epoch - 2ms/step\n",
            "Epoch 62/100\n",
            "36/36 - 0s - loss: 0.3040 - accuracy: 0.8354 - val_loss: 0.3300 - val_accuracy: 0.8121 - 77ms/epoch - 2ms/step\n",
            "Epoch 63/100\n",
            "36/36 - 0s - loss: 0.3071 - accuracy: 0.8293 - val_loss: 0.3379 - val_accuracy: 0.8009 - 77ms/epoch - 2ms/step\n",
            "Epoch 64/100\n",
            "36/36 - 0s - loss: 0.3036 - accuracy: 0.8377 - val_loss: 0.3323 - val_accuracy: 0.8121 - 92ms/epoch - 3ms/step\n",
            "Epoch 65/100\n",
            "36/36 - 0s - loss: 0.3115 - accuracy: 0.8237 - val_loss: 0.3309 - val_accuracy: 0.8188 - 78ms/epoch - 2ms/step\n",
            "Epoch 66/100\n",
            "36/36 - 0s - loss: 0.3073 - accuracy: 0.8368 - val_loss: 0.3352 - val_accuracy: 0.8121 - 98ms/epoch - 3ms/step\n",
            "Epoch 67/100\n",
            "36/36 - 0s - loss: 0.3033 - accuracy: 0.8371 - val_loss: 0.3296 - val_accuracy: 0.8233 - 96ms/epoch - 3ms/step\n",
            "Epoch 68/100\n",
            "36/36 - 0s - loss: 0.3013 - accuracy: 0.8360 - val_loss: 0.3319 - val_accuracy: 0.8143 - 84ms/epoch - 2ms/step\n",
            "Epoch 69/100\n",
            "36/36 - 0s - loss: 0.3089 - accuracy: 0.8304 - val_loss: 0.3317 - val_accuracy: 0.8188 - 82ms/epoch - 2ms/step\n",
            "Epoch 70/100\n",
            "36/36 - 0s - loss: 0.3006 - accuracy: 0.8365 - val_loss: 0.3389 - val_accuracy: 0.8031 - 94ms/epoch - 3ms/step\n",
            "Epoch 71/100\n",
            "36/36 - 0s - loss: 0.3057 - accuracy: 0.8312 - val_loss: 0.3469 - val_accuracy: 0.8121 - 82ms/epoch - 2ms/step\n",
            "Epoch 72/100\n",
            "36/36 - 0s - loss: 0.3008 - accuracy: 0.8430 - val_loss: 0.3297 - val_accuracy: 0.8121 - 93ms/epoch - 3ms/step\n",
            "Epoch 73/100\n",
            "36/36 - 0s - loss: 0.3017 - accuracy: 0.8368 - val_loss: 0.3346 - val_accuracy: 0.8233 - 84ms/epoch - 2ms/step\n",
            "Epoch 74/100\n",
            "36/36 - 0s - loss: 0.3015 - accuracy: 0.8351 - val_loss: 0.3292 - val_accuracy: 0.8188 - 80ms/epoch - 2ms/step\n",
            "Epoch 75/100\n",
            "36/36 - 0s - loss: 0.3022 - accuracy: 0.8351 - val_loss: 0.3292 - val_accuracy: 0.8121 - 89ms/epoch - 2ms/step\n",
            "Epoch 76/100\n",
            "36/36 - 0s - loss: 0.2997 - accuracy: 0.8343 - val_loss: 0.3362 - val_accuracy: 0.7919 - 97ms/epoch - 3ms/step\n",
            "Epoch 77/100\n",
            "36/36 - 0s - loss: 0.3029 - accuracy: 0.8357 - val_loss: 0.3281 - val_accuracy: 0.8031 - 104ms/epoch - 3ms/step\n",
            "Epoch 78/100\n",
            "36/36 - 0s - loss: 0.3044 - accuracy: 0.8374 - val_loss: 0.3477 - val_accuracy: 0.8031 - 82ms/epoch - 2ms/step\n",
            "Epoch 79/100\n",
            "36/36 - 0s - loss: 0.3017 - accuracy: 0.8343 - val_loss: 0.3409 - val_accuracy: 0.8009 - 81ms/epoch - 2ms/step\n",
            "Epoch 80/100\n",
            "36/36 - 0s - loss: 0.3043 - accuracy: 0.8393 - val_loss: 0.3337 - val_accuracy: 0.8031 - 77ms/epoch - 2ms/step\n",
            "Epoch 81/100\n",
            "36/36 - 0s - loss: 0.3016 - accuracy: 0.8298 - val_loss: 0.3332 - val_accuracy: 0.8031 - 89ms/epoch - 2ms/step\n",
            "Epoch 82/100\n",
            "36/36 - 0s - loss: 0.3058 - accuracy: 0.8338 - val_loss: 0.3340 - val_accuracy: 0.7942 - 99ms/epoch - 3ms/step\n",
            "Epoch 83/100\n",
            "36/36 - 0s - loss: 0.2994 - accuracy: 0.8326 - val_loss: 0.3288 - val_accuracy: 0.8121 - 93ms/epoch - 3ms/step\n",
            "Epoch 84/100\n",
            "36/36 - 0s - loss: 0.3008 - accuracy: 0.8360 - val_loss: 0.3494 - val_accuracy: 0.7830 - 96ms/epoch - 3ms/step\n",
            "Epoch 85/100\n",
            "36/36 - 0s - loss: 0.3059 - accuracy: 0.8273 - val_loss: 0.3311 - val_accuracy: 0.8188 - 81ms/epoch - 2ms/step\n",
            "Epoch 86/100\n",
            "36/36 - 0s - loss: 0.3007 - accuracy: 0.8360 - val_loss: 0.3375 - val_accuracy: 0.8098 - 91ms/epoch - 3ms/step\n",
            "Epoch 87/100\n",
            "36/36 - 0s - loss: 0.3003 - accuracy: 0.8357 - val_loss: 0.3340 - val_accuracy: 0.8009 - 86ms/epoch - 2ms/step\n",
            "Epoch 88/100\n",
            "36/36 - 0s - loss: 0.3045 - accuracy: 0.8363 - val_loss: 0.3272 - val_accuracy: 0.8166 - 102ms/epoch - 3ms/step\n",
            "Epoch 89/100\n",
            "36/36 - 0s - loss: 0.3003 - accuracy: 0.8329 - val_loss: 0.3342 - val_accuracy: 0.8121 - 95ms/epoch - 3ms/step\n",
            "Epoch 90/100\n",
            "36/36 - 0s - loss: 0.3008 - accuracy: 0.8332 - val_loss: 0.3300 - val_accuracy: 0.8121 - 95ms/epoch - 3ms/step\n",
            "Epoch 91/100\n",
            "36/36 - 0s - loss: 0.2994 - accuracy: 0.8396 - val_loss: 0.3269 - val_accuracy: 0.8143 - 78ms/epoch - 2ms/step\n",
            "Epoch 92/100\n",
            "36/36 - 0s - loss: 0.3005 - accuracy: 0.8391 - val_loss: 0.3367 - val_accuracy: 0.8098 - 95ms/epoch - 3ms/step\n",
            "Epoch 93/100\n",
            "36/36 - 0s - loss: 0.3009 - accuracy: 0.8388 - val_loss: 0.3330 - val_accuracy: 0.8098 - 78ms/epoch - 2ms/step\n",
            "Epoch 94/100\n",
            "36/36 - 0s - loss: 0.3013 - accuracy: 0.8335 - val_loss: 0.3317 - val_accuracy: 0.8210 - 101ms/epoch - 3ms/step\n",
            "Epoch 95/100\n",
            "36/36 - 0s - loss: 0.3041 - accuracy: 0.8324 - val_loss: 0.3538 - val_accuracy: 0.8121 - 99ms/epoch - 3ms/step\n",
            "Epoch 96/100\n",
            "36/36 - 0s - loss: 0.3035 - accuracy: 0.8326 - val_loss: 0.3325 - val_accuracy: 0.8098 - 100ms/epoch - 3ms/step\n",
            "Epoch 97/100\n",
            "36/36 - 0s - loss: 0.2988 - accuracy: 0.8396 - val_loss: 0.3324 - val_accuracy: 0.8166 - 83ms/epoch - 2ms/step\n",
            "Epoch 98/100\n",
            "36/36 - 0s - loss: 0.2994 - accuracy: 0.8413 - val_loss: 0.3278 - val_accuracy: 0.8233 - 93ms/epoch - 3ms/step\n",
            "Epoch 99/100\n",
            "36/36 - 0s - loss: 0.2990 - accuracy: 0.8405 - val_loss: 0.3374 - val_accuracy: 0.8009 - 76ms/epoch - 2ms/step\n",
            "Epoch 100/100\n",
            "36/36 - 0s - loss: 0.3005 - accuracy: 0.8338 - val_loss: 0.3320 - val_accuracy: 0.8098 - 98ms/epoch - 3ms/step\n"
          ]
        },
        {
          "output_type": "execute_result",
          "data": {
            "text/plain": [
              "<keras.callbacks.History at 0x7f89c80e4e10>"
            ]
          },
          "metadata": {},
          "execution_count": 10
        }
      ]
    },
    {
      "cell_type": "markdown",
      "source": [
        "Overfitting is present"
      ],
      "metadata": {
        "id": "dErwmcgye_pu"
      }
    },
    {
      "cell_type": "code",
      "source": [
        ""
      ],
      "metadata": {
        "id": "BxsY_eg_fBqw"
      },
      "execution_count": null,
      "outputs": []
    }
  ]
}