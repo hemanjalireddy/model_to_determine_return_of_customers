{
  "nbformat": 4,
  "nbformat_minor": 0,
  "metadata": {
    "colab": {
      "name": "AudioBook_ML_model.ipynb",
      "provenance": []
    },
    "kernelspec": {
      "name": "python3",
      "display_name": "Python 3"
    },
    "language_info": {
      "name": "python"
    }
  },
  "cells": [
    {
      "cell_type": "markdown",
      "source": [
        "#Machine Learning Algorithm"
      ],
      "metadata": {
        "id": "1h0H9Nhhaa0i"
      }
    },
    {
      "cell_type": "markdown",
      "source": [
        "## Import the relevant libraries"
      ],
      "metadata": {
        "id": "KzzQCZUhaeYN"
      }
    },
    {
      "cell_type": "code",
      "execution_count": 1,
      "metadata": {
        "id": "Ra-j6oaCaV8w"
      },
      "outputs": [],
      "source": [
        "import numpy as np\n",
        "import tensorflow as tf\n"
      ]
    },
    {
      "cell_type": "markdown",
      "source": [
        "## Load the data"
      ],
      "metadata": {
        "id": "QV3M0X8VbAjO"
      }
    },
    {
      "cell_type": "code",
      "source": [
        "npz_train = np.load('/content/Audiobooks_data_train.npz')\n",
        "\n",
        "train_inputs = npz_train['inputs'].astype(np.float64) #inputs are expected to be float type\n",
        "train_targets = npz_train['targets'].astype(np.int64)\n",
        "\n",
        "npz_validation = np.load('/content/Audiobooks_data_validation.npz')\n",
        "validation_inputs = npz_validation['inputs'].astype(np.float64) \n",
        "validation_targets = npz_validation['targets'].astype(np.int64)\n",
        "\n",
        "npz_test = np.load('/content/Audiobooks_data_test.npz')\n",
        "test_inputs = npz_test['inputs'].astype(np.float64) \n",
        "test_targets = npz_test['targets'].astype(np.int64)"
      ],
      "metadata": {
        "id": "tcCbPkY7bBoA"
      },
      "execution_count": 6,
      "outputs": []
    }
  ]
}