{
  "nbformat": 4,
  "nbformat_minor": 0,
  "metadata": {
    "colab": {
      "name": "AudioBook_ML_model.ipynb",
      "provenance": [],
      "collapsed_sections": [],
      "authorship_tag": "ABX9TyNKBHijZlVVVfbnYxM9Se64",
      "include_colab_link": true
    },
    "kernelspec": {
      "name": "python3",
      "display_name": "Python 3"
    },
    "language_info": {
      "name": "python"
    }
  },
  "cells": [
    {
      "cell_type": "markdown",
      "metadata": {
        "id": "view-in-github",
        "colab_type": "text"
      },
      "source": [
        "<a href=\"https://colab.research.google.com/github/hemanjalireddy/model_to_determine_return_of_customers/blob/main/AudioBook_ML_model.ipynb\" target=\"_parent\"><img src=\"https://colab.research.google.com/assets/colab-badge.svg\" alt=\"Open In Colab\"/></a>"
      ]
    },
    {
      "cell_type": "markdown",
      "source": [
        "#Machine Learning Algorithm"
      ],
      "metadata": {
        "id": "1h0H9Nhhaa0i"
      }
    },
    {
      "cell_type": "markdown",
      "source": [
        "## Import the relevant libraries"
      ],
      "metadata": {
        "id": "KzzQCZUhaeYN"
      }
    },
    {
      "cell_type": "code",
      "execution_count": null,
      "metadata": {
        "id": "Ra-j6oaCaV8w"
      },
      "outputs": [],
      "source": [
        "import numpy as np\n",
        "import tensorflow as tf\n"
      ]
    },
    {
      "cell_type": "markdown",
      "source": [
        "## Load the data"
      ],
      "metadata": {
        "id": "QV3M0X8VbAjO"
      }
    },
    {
      "cell_type": "code",
      "source": [
        "npz_train = np.load('/content/Audiobooks_data_train.npz')\n",
        "\n",
        "train_inputs = npz_train['inputs'].astype(np.float64) #inputs are expected to be float type\n",
        "train_targets = npz_train['targets'].astype(np.int64)\n",
        "\n",
        "npz_validation = np.load('/content/Audiobooks_data_validation.npz')\n",
        "validation_inputs = npz_validation['inputs'].astype(np.float64) \n",
        "validation_targets = npz_validation['targets'].astype(np.int64)\n",
        "\n",
        "npz_test = np.load('/content/Audiobooks_data_test.npz')\n",
        "test_inputs = npz_test['inputs'].astype(np.float64) \n",
        "test_targets = npz_test['targets'].astype(np.int64)"
      ],
      "metadata": {
        "id": "tcCbPkY7bBoA"
      },
      "execution_count": null,
      "outputs": []
    },
    {
      "cell_type": "markdown",
      "source": [
        "## MODEL\n",
        "\n",
        "Outline , optimizer ,loss function , early stopping and training"
      ],
      "metadata": {
        "id": "wPVJ4lK_c651"
      }
    },
    {
      "cell_type": "code",
      "source": [
        "input_size = 10\n",
        "output_size = 2\n",
        "hidden_layer_size = 50 #arbitrary\n",
        "\n",
        "\n",
        "model = tf.keras.Sequential([                                                                           #stacks layers\n",
        "                            tf.keras.layers.Dense(hidden_layer_size , activation='relu') , \n",
        "                            tf.keras.layers.Dense(hidden_layer_size , activation='relu') , \n",
        "                            tf.keras.layers.Dense(output_size , activation = 'softmax')\n",
        "\n",
        "])  "
      ],
      "metadata": {
        "id": "3c0J2I-Kc7uZ"
      },
      "execution_count": 8,
      "outputs": []
    },
    {
      "cell_type": "markdown",
      "source": [
        "###Optimizer and loss function"
      ],
      "metadata": {
        "id": "XzPy0jC0dmgg"
      }
    },
    {
      "cell_type": "code",
      "source": [
        "model.compile(optimizer = 'adam' , loss = 'sparse_categorical_crossentropy' , metrics =['accuracy'])  "
      ],
      "metadata": {
        "id": "XKfwxoU2dpVa"
      },
      "execution_count": 9,
      "outputs": []
    },
    {
      "cell_type": "markdown",
      "source": [
        "## Fit the model\n"
      ],
      "metadata": {
        "id": "cZG77XPSd-iU"
      }
    },
    {
      "cell_type": "markdown",
      "source": [
        "## Early stopping"
      ],
      "metadata": {
        "id": "s7Gnq5GZnpSg"
      }
    },
    {
      "cell_type": "code",
      "source": [
        "early_stopping = tf.keras.callbacks.EarlyStopping(patience = 2)"
      ],
      "metadata": {
        "id": "OsUU22TKnrPR"
      },
      "execution_count": 17,
      "outputs": []
    },
    {
      "cell_type": "code",
      "source": [
        "batch_size = 100\n",
        "max_epochs = 100\n",
        "\n",
        "model.fit(train_inputs , \n",
        "          train_targets , \n",
        "          batch_size = batch_size ,   #automatic batching\n",
        "          epochs = max_epochs , \n",
        "          callbacks = [early_stopping],\n",
        "          validation_data = (validation_inputs , validation_targets) , \n",
        "          verbose=2)"
      ],
      "metadata": {
        "colab": {
          "base_uri": "https://localhost:8080/"
        },
        "id": "COJBJqzEeBDW",
        "outputId": "1f6553ca-e9c5-4f4f-96a1-9e409070a38b"
      },
      "execution_count": 18,
      "outputs": [
        {
          "output_type": "stream",
          "name": "stdout",
          "text": [
            "Epoch 1/100\n",
            "36/36 - 0s - loss: 0.2986 - accuracy: 0.8368 - val_loss: 0.3283 - val_accuracy: 0.8076 - 325ms/epoch - 9ms/step\n",
            "Epoch 2/100\n",
            "36/36 - 0s - loss: 0.3031 - accuracy: 0.8399 - val_loss: 0.3326 - val_accuracy: 0.8166 - 97ms/epoch - 3ms/step\n",
            "Epoch 3/100\n",
            "36/36 - 0s - loss: 0.2999 - accuracy: 0.8377 - val_loss: 0.3458 - val_accuracy: 0.8233 - 82ms/epoch - 2ms/step\n"
          ]
        },
        {
          "output_type": "execute_result",
          "data": {
            "text/plain": [
              "<keras.callbacks.History at 0x7f89c40a2450>"
            ]
          },
          "metadata": {},
          "execution_count": 18
        }
      ]
    }
  ]
}