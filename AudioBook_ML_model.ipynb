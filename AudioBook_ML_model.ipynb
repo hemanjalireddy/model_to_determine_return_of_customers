{
  "nbformat": 4,
  "nbformat_minor": 0,
  "metadata": {
    "colab": {
      "name": "AudioBook_ML_model.ipynb",
      "provenance": [],
      "collapsed_sections": [],
      "authorship_tag": "ABX9TyMjtVBmuRhhw0VKlOS/S6eO",
      "include_colab_link": true
    },
    "kernelspec": {
      "name": "python3",
      "display_name": "Python 3"
    },
    "language_info": {
      "name": "python"
    }
  },
  "cells": [
    {
      "cell_type": "markdown",
      "metadata": {
        "id": "view-in-github",
        "colab_type": "text"
      },
      "source": [
        "<a href=\"https://colab.research.google.com/github/hemanjalireddy/model_to_determine_return_of_customers/blob/main/AudioBook_ML_model.ipynb\" target=\"_parent\"><img src=\"https://colab.research.google.com/assets/colab-badge.svg\" alt=\"Open In Colab\"/></a>"
      ]
    },
    {
      "cell_type": "markdown",
      "source": [
        "#Machine Learning Algorithm"
      ],
      "metadata": {
        "id": "1h0H9Nhhaa0i"
      }
    },
    {
      "cell_type": "markdown",
      "source": [
        "## Import the relevant libraries"
      ],
      "metadata": {
        "id": "KzzQCZUhaeYN"
      }
    },
    {
      "cell_type": "code",
      "execution_count": null,
      "metadata": {
        "id": "Ra-j6oaCaV8w"
      },
      "outputs": [],
      "source": [
        "import numpy as np\n",
        "import tensorflow as tf\n"
      ]
    },
    {
      "cell_type": "markdown",
      "source": [
        "## Load the data"
      ],
      "metadata": {
        "id": "QV3M0X8VbAjO"
      }
    },
    {
      "cell_type": "code",
      "source": [
        "npz_train = np.load('/content/Audiobooks_data_train.npz')\n",
        "\n",
        "train_inputs = npz_train['inputs'].astype(np.float64) #inputs are expected to be float type\n",
        "train_targets = npz_train['targets'].astype(np.int64)\n",
        "\n",
        "npz_validation = np.load('/content/Audiobooks_data_validation.npz')\n",
        "validation_inputs = npz_validation['inputs'].astype(np.float64) \n",
        "validation_targets = npz_validation['targets'].astype(np.int64)\n",
        "\n",
        "npz_test = np.load('/content/Audiobooks_data_test.npz')\n",
        "test_inputs = npz_test['inputs'].astype(np.float64) \n",
        "test_targets = npz_test['targets'].astype(np.int64)"
      ],
      "metadata": {
        "id": "tcCbPkY7bBoA"
      },
      "execution_count": null,
      "outputs": []
    },
    {
      "cell_type": "markdown",
      "source": [
        "## MODEL\n",
        "\n",
        "Outline , optimizer ,loss function , early stopping and training"
      ],
      "metadata": {
        "id": "wPVJ4lK_c651"
      }
    },
    {
      "cell_type": "code",
      "source": [
        "input_size = 10\n",
        "output_size = 2\n",
        "hidden_layer_size = 50 #arbitrary\n",
        "\n",
        "\n",
        "model = tf.keras.Sequential([                                                                           #stacks layers\n",
        "                            tf.keras.layers.Dense(hidden_layer_size , activation='relu') , \n",
        "                            tf.keras.layers.Dense(hidden_layer_size , activation='relu') , \n",
        "                            tf.keras.layers.Dense(output_size , activation = 'softmax')\n",
        "\n",
        "])  "
      ],
      "metadata": {
        "id": "3c0J2I-Kc7uZ"
      },
      "execution_count": 8,
      "outputs": []
    },
    {
      "cell_type": "markdown",
      "source": [
        "###Optimizer and loss function"
      ],
      "metadata": {
        "id": "XzPy0jC0dmgg"
      }
    },
    {
      "cell_type": "code",
      "source": [
        "model.compile(optimizer = 'adam' , loss = 'sparse_categorical_crossentropy' , metrics =['accuracy'])  "
      ],
      "metadata": {
        "id": "XKfwxoU2dpVa"
      },
      "execution_count": 9,
      "outputs": []
    }
  ]
}